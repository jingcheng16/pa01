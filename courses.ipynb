{
 "cells": [
  {
   "cell_type": "markdown",
   "metadata": {},
   "source": [
    "# Courses Demo\n",
    "This Jupyter notebook is for exploring the data set courses20-21.json\n",
    "which consists of all Brandeis courses in the 20-21 academic year (Fall20, Spr21, Sum21) \n",
    "which had at least 1 student enrolled.\n",
    "\n",
    "First we need to read the json file into a list of Python dictionaries"
   ]
  },
  {
   "cell_type": "code",
   "execution_count": 1,
   "metadata": {},
   "outputs": [],
   "source": [
    "import statistics"
   ]
  },
  {
   "cell_type": "code",
   "execution_count": 2,
   "metadata": {},
   "outputs": [],
   "source": [
    "import json"
   ]
  },
  {
   "cell_type": "code",
   "execution_count": 3,
   "metadata": {},
   "outputs": [],
   "source": [
    "with open(\"courses20-21.json\",\"r\",encoding='utf-8') as jsonfile:\n",
    "    courses = json.load(jsonfile)"
   ]
  },
  {
   "cell_type": "markdown",
   "metadata": {},
   "source": [
    "## Structure of a course\n",
    "Next we look at the fields of each course dictionary and their values"
   ]
  },
  {
   "cell_type": "code",
   "execution_count": 4,
   "metadata": {},
   "outputs": [
    {
     "name": "stdout",
     "output_type": "stream",
     "text": [
      "there are 7813 courses in the dataset\n",
      "here is the data for course 1246\n"
     ]
    },
    {
     "data": {
      "text/plain": [
       "{'limit': 28,\n",
       " 'times': [{'start': 1080, 'end': 1170, 'days': ['w', 'm']}],\n",
       " 'enrolled': 4,\n",
       " 'details': 'Instruction for this course will be offered remotely. Meeting times for this course are listed in the schedule of classes (in ET).',\n",
       " 'type': 'section',\n",
       " 'status_text': 'Open',\n",
       " 'section': '1',\n",
       " 'waiting': 0,\n",
       " 'instructor': ['An', 'Huang', 'anhuang@brandeis.edu'],\n",
       " 'coinstructors': [],\n",
       " 'code': ['MATH', '223A'],\n",
       " 'subject': 'MATH',\n",
       " 'coursenum': '223A',\n",
       " 'name': 'Lie Algebras: Representation Theory',\n",
       " 'independent_study': False,\n",
       " 'term': '1203',\n",
       " 'description': \"Theorems of Engel and Lie. Semisimple Lie algebras, Cartan's criterion. Universal enveloping algebras, PBW theorem, Serre's construction. Representation theory. Other topics as time permits. Usually offered every second year.\\nAn Huang\"}"
      ]
     },
     "execution_count": 4,
     "metadata": {},
     "output_type": "execute_result"
    }
   ],
   "source": [
    "print('there are',len(courses),'courses in the dataset')\n",
    "print('here is the data for course 1246')\n",
    "courses[1246]"
   ]
  },
  {
   "cell_type": "markdown",
   "metadata": {},
   "source": [
    "## Cleaning the data\n",
    "If we want to sort courses by instructor or by code, we need to replace the lists with tuples (which are immutable lists)"
   ]
  },
  {
   "cell_type": "code",
   "execution_count": 5,
   "metadata": {},
   "outputs": [],
   "source": [
    "for course in courses:\n",
    "        course['instructor'] = tuple(course['instructor'])\n",
    "        course['coinstructors'] = tuple([tuple(f) for f in course['coinstructors']])\n",
    "        course['code']= tuple(course['code'])"
   ]
  },
  {
   "cell_type": "markdown",
   "metadata": {},
   "source": [
    "# Exploring the data set\n",
    "Now we will show how to use straight python to explore the data set and answer some interesting questions. Next week we will start learning Pandas/Numpy which are packages that make it easier to explore large dataset efficiently.\n",
    "\n",
    "Here are some questions we can try to asnwer:\n",
    "* what are all of the subjects of courses (e.g. COSI, MATH, JAPN, PHIL, ...)\n",
    "* which terms are represented?\n",
    "* how many instructors taught at Brandeis last year?\n",
    "* what were the five largest course sections?\n",
    "* what were the five largest courses (where we combine sections)?\n",
    "* which are the five largest subjects measured by number of courses offered?\n",
    "* which are the five largest courses measured by number of students taught?\n",
    "* which course had the most sections taught in 20-21?\n",
    "* who are the top five faculty in terms of number of students taught?\n",
    "* etc."
   ]
  },
  {
   "cell_type": "markdown",
   "metadata": {},
   "source": [
    "#### a. How many faculty taught COSI courses last year?"
   ]
  },
  {
   "cell_type": "code",
   "execution_count": 6,
   "metadata": {},
   "outputs": [
    {
     "data": {
      "text/plain": [
       "27"
      ]
     },
     "execution_count": 6,
     "metadata": {},
     "output_type": "execute_result"
    }
   ],
   "source": [
    "len({course['instructor'] for course in courses if course['subject']=='COSI' and (course['term']=='1211' or course['term'] == '1212')})"
   ]
  },
  {
   "cell_type": "markdown",
   "metadata": {},
   "source": [
    "#### b. what is the total number of students taking COSI courses last year?"
   ]
  },
  {
   "cell_type": "code",
   "execution_count": 7,
   "metadata": {},
   "outputs": [
    {
     "data": {
      "text/plain": [
       "944"
      ]
     },
     "execution_count": 7,
     "metadata": {},
     "output_type": "execute_result"
    }
   ],
   "source": [
    "sum({course['enrolled'] for course in courses if course['subject'] == 'COSI' and (course['term']=='1211' or course['term'] == '1212')})"
   ]
  },
  {
   "cell_type": "markdown",
   "metadata": {},
   "source": [
    "#### c. what was the median size of a COSI course last year (counting only those courses with at least 10 students)"
   ]
  },
  {
   "cell_type": "code",
   "execution_count": 8,
   "metadata": {},
   "outputs": [
    {
     "data": {
      "text/plain": [
       "35.0"
      ]
     },
     "execution_count": 8,
     "metadata": {},
     "output_type": "execute_result"
    }
   ],
   "source": [
    "statistics.median({course['enrolled'] for course in courses if course['subject'] == 'COSI' and \n",
    "                   (course['term']=='1211' or course['term'] == '1212') and (course['enrolled']>=10)})"
   ]
  },
  {
   "cell_type": "markdown",
   "metadata": {},
   "source": [
    "#### d. create a list of tuples (E,S) where S is a subject and E is the number of students enrolled in courses in that subject, sort it and print the top 10. This shows the top 10 subjects in terms of number of students taught.\n"
   ]
  },
  {
   "cell_type": "code",
   "execution_count": 9,
   "metadata": {},
   "outputs": [
    {
     "data": {
      "text/plain": [
       "[('HS', 5318),\n",
       " ('BIOL', 3085),\n",
       " ('BUS', 2766),\n",
       " ('HWL', 2734),\n",
       " ('CHEM', 2322),\n",
       " ('ECON', 2315),\n",
       " ('COSI', 2223),\n",
       " ('MATH', 1785),\n",
       " ('PSYC', 1704),\n",
       " ('ANTH', 1144)]"
      ]
     },
     "execution_count": 9,
     "metadata": {},
     "output_type": "execute_result"
    }
   ],
   "source": [
    "tup = dict()\n",
    "for c in courses:\n",
    "    if c['subject'] in tup:\n",
    "        tup[c['subject']] += c['enrolled']\n",
    "    else:\n",
    "        tup[c['subject']] = c['enrolled']\n",
    "\n",
    "list = [(k, v) for k, v in tup.items()]\n",
    "list = sorted(list, key = lambda x: -x[1])\n",
    "list[0: 10]\n",
    "\n",
    "# [ins for ins in sorted(tup.items(), key= lambda tup: tup[1], reverse = True)][:10]\n",
    "# data = list(zip(A, B))\n",
    "# data = sorted(data, key = lambda x: x[1])\n",
    "# data[0:10]\n",
    "\n"
   ]
  },
  {
   "cell_type": "markdown",
   "metadata": {},
   "source": [
    "#### e. do the same as in (d) but print the top 10 subjects in terms of number of courses offered\n"
   ]
  },
  {
   "cell_type": "code",
   "execution_count": 10,
   "metadata": {},
   "outputs": [
    {
     "data": {
      "text/plain": [
       "[('BIOL', 613),\n",
       " ('HIST', 498),\n",
       " ('PSYC', 417),\n",
       " ('NEUR', 403),\n",
       " ('BCHM', 296),\n",
       " ('PHYS', 288),\n",
       " ('HS', 274),\n",
       " ('COSI', 272),\n",
       " ('MUS', 266),\n",
       " ('ENG', 265)]"
      ]
     },
     "execution_count": 10,
     "metadata": {},
     "output_type": "execute_result"
    }
   ],
   "source": [
    "tup1 = dict()\n",
    "for c in courses:\n",
    "    if c['subject'] in tup1:\n",
    "        tup1[c['subject']] += 1\n",
    "    else:\n",
    "        tup1[c['subject']] = 1\n",
    "\n",
    "list1 = [(k, v) for k, v in tup1.items()]\n",
    "list1 = sorted(list1, key = lambda x: -x[1])\n",
    "list1[0: 10]\n",
    "\n",
    "# not sure about what it mean by number of courses: same course different term?\n"
   ]
  },
  {
   "cell_type": "markdown",
   "metadata": {},
   "source": [
    "#### f. do the same as (d) but print the top 10 subjects in terms of number of faculty teaching courses in that subject\n"
   ]
  },
  {
   "cell_type": "code",
   "execution_count": 11,
   "metadata": {},
   "outputs": [
    {
     "data": {
      "text/plain": [
       "[('HS', 87),\n",
       " ('BIOL', 67),\n",
       " ('ECON', 52),\n",
       " ('BCHM', 49),\n",
       " ('BUS', 47),\n",
       " ('HIST', 47),\n",
       " ('BCBP', 46),\n",
       " ('HWL', 42),\n",
       " ('MATH', 37),\n",
       " ('NEJS', 37)]"
      ]
     },
     "execution_count": 11,
     "metadata": {},
     "output_type": "execute_result"
    }
   ],
   "source": [
    "tup2 = dict()\n",
    "for c in courses:\n",
    "    if c['subject'] in tup2:\n",
    "        if c['instructor'] in tup2[c['subject']]:\n",
    "            continue\n",
    "        else:\n",
    "            tup2[c['subject']].add(c['instructor'])\n",
    "    else:\n",
    "        tup2[c['subject']] = set()\n",
    "        tup2[c['subject']].add(c['instructor'])\n",
    "\n",
    "list2 = [(k, len(v)) for k, v in tup2.items()]\n",
    "list2 = sorted(list2, key = lambda x: -x[1])\n",
    "list2[0: 10]"
   ]
  },
  {
   "cell_type": "markdown",
   "metadata": {},
   "source": [
    "#### g. list the top 20 faculty in terms of number of students they taught"
   ]
  },
  {
   "cell_type": "code",
   "execution_count": 12,
   "metadata": {},
   "outputs": [
    {
     "data": {
      "text/plain": [
       "[(('Leah', 'Berkenwald', 'leahb@brandeis.edu'), 926),\n",
       " (('Kene Nathan', 'Piasta', 'kpiasta@brandeis.edu'), 583),\n",
       " (('Stephanie', 'Murray', 'murray@brandeis.edu'), 515),\n",
       " (('Milos', 'Dolnik', 'dolnik@brandeis.edu'), 489),\n",
       " (('Maria', 'de Boef Miara', 'mmiara@brandeis.edu'), 450),\n",
       " (('Bryan', 'Ingoglia', 'ingoglia@brandeis.edu'), 439),\n",
       " (('Rachel V.E.', 'Woodruff', 'woodruff@brandeis.edu'), 422),\n",
       " (('Timothy J', 'Hickey', 'tjhickey@brandeis.edu'), 411),\n",
       " (('Daniel', 'Breen', 'dbreen91@brandeis.edu'), 375),\n",
       " (('Melissa', 'Kosinski-Collins', 'kosinski@brandeis.edu'), 365)]"
      ]
     },
     "execution_count": 12,
     "metadata": {},
     "output_type": "execute_result"
    }
   ],
   "source": [
    "instructor = dict()\n",
    "for c in courses:\n",
    "    if c['instructor'] in instructor:\n",
    "        instructor[c['instructor']] += c['enrolled']\n",
    "    else:\n",
    "        instructor[c['instructor']] = c['enrolled']\n",
    "[ins for ins in sorted(instructor.items(), key= lambda instructor: instructor[1], reverse = True)][:10]"
   ]
  },
  {
   "cell_type": "markdown",
   "metadata": {},
   "source": [
    "#### h. list the top 20 courses in terms of number of students taking that course (where you combine different sections and semesters, i.e. just use the subject and course number)"
   ]
  },
  {
   "cell_type": "code",
   "execution_count": 13,
   "metadata": {},
   "outputs": [
    {
     "name": "stdout",
     "output_type": "stream",
     "text": [
      "[(('HWL', '1'), 915), (('HWL', '1-PRE'), 784), (('BIOL', '14A'), 316), (('MATH', '10A'), 255), (('BIOL', '18B'), 251), (('BIOL', '18A'), 210), (('COSI', '10A'), 193), (('CHEM', '29A'), 193), (('COSI', '12B'), 182), (('BUS', '6A'), 178), (('CHEM', '29B'), 171), (('PSYC', '10A'), 166), (('BUS', '10A'), 163), (('MATH', '15A'), 161), (('EL', '35A'), 161), (('ECON', '80A'), 150), (('ECON', '10A'), 138), (('CHEM', '11B'), 137), (('CHEM', '18B'), 137), (('CHEM', '18A'), 137)]\n"
     ]
    }
   ],
   "source": [
    "courses_students = dict()\n",
    "for c in courses:\n",
    "    if c['code'] in courses_students.keys():\n",
    "        courses_students[c['code']] += c['enrolled']\n",
    "    else:\n",
    "        courses_students[c['code']] = 0\n",
    "courses_students = sorted(courses_students.items(), key = lambda item: item[1], reverse = True)\n",
    "print(courses_students[:20])"
   ]
  },
  {
   "cell_type": "markdown",
   "metadata": {},
   "source": [
    "#### i. Create my own interesting question(Lu):\n",
    "    What are the courses that mentioned code in its description?"
   ]
  },
  {
   "cell_type": "code",
   "execution_count": null,
   "metadata": {},
   "outputs": [],
   "source": [
    "{c['name'] for c in courses if 'code' in c['description']}"
   ]
  },
  {
   "cell_type": "markdown",
   "metadata": {
    "tags": []
   },
   "source": [
    "#### i. Create my own interesting question(Jing):\n",
    "    The top 10 instructors in terms of the number of independent study they have taught"
   ]
  },
  {
   "cell_type": "code",
   "execution_count": null,
   "metadata": {},
   "outputs": [],
   "source": [
    "instructor_with_inde = dict()\n",
    "for c in courses:\n",
    "    if course['independent_study'] == True:\n",
    "        if c['instructor'] in instructor_with_inde:\n",
    "            instructor_with_inde[c['instructor']] += 1\n",
    "        else:\n",
    "            instructor_with_inde[c['instructor']] = 1\n",
    "[ins for ins in sorted(instructor_with_inde.items(), key= lambda instructor: instructor[1], reverse = True)][:10]"
   ]
  },
  {
   "cell_type": "markdown",
   "metadata": {},
   "source": [
    "#### i. Create my own interesting question(Shuyuan):\n",
    "    Courses waiting list is larger than 15?"
   ]
  },
  {
   "cell_type": "code",
   "execution_count": 14,
   "metadata": {},
   "outputs": [
    {
     "data": {
      "text/plain": [
       "[{'Biomedical Ethics',\n",
       "  'Biostatistics',\n",
       "  'Darwinian Dating: The Evolution of Human Attraction',\n",
       "  'Human Anatomy',\n",
       "  'Introduction to Cognitive Neuroscience',\n",
       "  'Introduction to Probability and Statistics',\n",
       "  'Money Management for Beginners',\n",
       "  'Personal Safety/Self-Defense',\n",
       "  'Yoga'}]"
      ]
     },
     "execution_count": 14,
     "metadata": {},
     "output_type": "execute_result"
    }
   ],
   "source": [
    "[{c['name'] for c in courses if c['waiting'] >= 15}] "
   ]
  },
  {
   "cell_type": "code",
   "execution_count": null,
   "metadata": {},
   "outputs": [],
   "source": []
  }
 ],
 "metadata": {
  "interpreter": {
   "hash": "31f2aee4e71d21fbe5cf8b01ff0e069b9275f58929596ceb00d14d90e3e16cd6"
  },
  "kernelspec": {
   "display_name": "Python 3 (ipykernel)",
   "language": "python",
   "name": "python3"
  },
  "language_info": {
   "codemirror_mode": {
    "name": "ipython",
    "version": 3
   },
   "file_extension": ".py",
   "mimetype": "text/x-python",
   "name": "python",
   "nbconvert_exporter": "python",
   "pygments_lexer": "ipython3",
   "version": "3.10.0"
  }
 },
 "nbformat": 4,
 "nbformat_minor": 4
}
