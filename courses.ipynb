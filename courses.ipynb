{
 "cells": [
  {
   "cell_type": "markdown",
   "metadata": {},
   "source": [
    "# Courses Demo\n",
    "This Jupyter notebook is for exploring the data set courses20-21.json\n",
    "which consists of all Brandeis courses in the 20-21 academic year (Fall20, Spr21, Sum21) \n",
    "which had at least 1 student enrolled.\n",
    "\n",
    "First we need to read the json file into a list of Python dictionaries"
   ]
  },
  {
   "cell_type": "code",
   "execution_count": null,
   "metadata": {},
   "outputs": [],
   "source": [
    "import statistics"
   ]
  },
  {
   "cell_type": "code",
   "execution_count": null,
   "metadata": {},
   "outputs": [],
   "source": [
    "import json"
   ]
  },
  {
   "cell_type": "code",
   "execution_count": null,
   "metadata": {},
   "outputs": [],
   "source": [
    "with open(\"courses20-21.json\",\"r\",encoding='utf-8') as jsonfile:\n",
    "    courses = json.load(jsonfile)"
   ]
  },
  {
   "cell_type": "markdown",
   "metadata": {},
   "source": [
    "## Structure of a course\n",
    "Next we look at the fields of each course dictionary and their values"
   ]
  },
  {
   "cell_type": "code",
   "execution_count": null,
   "metadata": {},
   "outputs": [],
   "source": [
    "print('there are',len(courses),'courses in the dataset')\n",
    "print('here is the data for course 1246')\n",
    "courses[1246]"
   ]
  },
  {
   "cell_type": "markdown",
   "metadata": {},
   "source": [
    "## Cleaning the data\n",
    "If we want to sort courses by instructor or by code, we need to replace the lists with tuples (which are immutable lists)"
   ]
  },
  {
   "cell_type": "code",
   "execution_count": null,
   "metadata": {},
   "outputs": [],
   "source": [
    "for course in courses:\n",
    "        course['instructor'] = tuple(course['instructor'])\n",
    "        course['coinstructors'] = tuple([tuple(f) for f in course['coinstructors']])\n",
    "        course['code']= tuple(course['code'])"
   ]
  },
  {
   "cell_type": "markdown",
   "metadata": {},
   "source": [
    "# Exploring the data set\n",
    "Now we will show how to use straight python to explore the data set and answer some interesting questions. Next week we will start learning Pandas/Numpy which are packages that make it easier to explore large dataset efficiently.\n",
    "\n",
    "Here are some questions we can try to asnwer:\n",
    "* what are all of the subjects of courses (e.g. COSI, MATH, JAPN, PHIL, ...)\n",
    "* which terms are represented?\n",
    "* how many instructors taught at Brandeis last year?\n",
    "* what were the five largest course sections?\n",
    "* what were the five largest courses (where we combine sections)?\n",
    "* which are the five largest subjects measured by number of courses offered?\n",
    "* which are the five largest courses measured by number of students taught?\n",
    "* which course had the most sections taught in 20-21?\n",
    "* who are the top five faculty in terms of number of students taught?\n",
    "* etc."
   ]
  },
  {
   "cell_type": "markdown",
   "metadata": {},
   "source": [
    "#### a. How many faculty taught COSI courses last year?"
   ]
  },
  {
   "cell_type": "code",
   "execution_count": null,
   "metadata": {},
   "outputs": [],
   "source": [
    "len({course['instructor'] for course in courses if course['subject']=='COSI' and (course['term']=='1211' or course['term'] == '1212')})"
   ]
  },
  {
   "cell_type": "markdown",
   "metadata": {},
   "source": [
    "#### b. what is the total number of students taking COSI courses last year?"
   ]
  },
  {
   "cell_type": "code",
   "execution_count": null,
   "metadata": {},
   "outputs": [],
   "source": [
    "sum({course['enrolled'] for course in courses if course['subject'] == 'COSI' and (course['term']=='1211' or course['term'] == '1212')})"
   ]
  },
  {
   "cell_type": "markdown",
   "metadata": {},
   "source": [
    "#### c. what was the median size of a COSI course last year (counting only those courses with at least 10 students)"
   ]
  },
  {
   "cell_type": "code",
   "execution_count": null,
   "metadata": {},
   "outputs": [],
   "source": [
    "statistics.median({course['enrolled'] for course in courses if course['subject'] == 'COSI' and \n",
    "                   (course['term']=='1211' or course['term'] == '1212') and (course['enrolled']>=10)})"
   ]
  },
  {
   "cell_type": "markdown",
   "metadata": {},
   "source": [
    "#### d. create a list of tuples (E,S) where S is a subject and E is the number of students enrolled in courses in that subject, sort it and print the top 10. This shows the top 10 subjects in terms of number of students taught.\n"
   ]
  },
  {
   "cell_type": "code",
   "execution_count": null,
   "metadata": {},
   "outputs": [],
   "source": [
    "tup = dict()\n",
    "for c in courses:\n",
    "    if c['subject'] in tup:\n",
    "        tup[c['subject']] += c['enrolled']\n",
    "    else:\n",
    "        tup[c['subject']] = c['enrolled']\n",
    "\n",
    "list = [(k, v) for k, v in tup.items()]\n",
    "list = sorted(list, key = lambda x: -x[1])\n",
    "list[0: 10]\n",
    "\n",
    "# [ins for ins in sorted(tup.items(), key= lambda tup: tup[1], reverse = True)][:10]\n",
    "# data = list(zip(A, B))\n",
    "# data = sorted(data, key = lambda x: x[1])\n",
    "# data[0:10]\n",
    "\n"
   ]
  },
  {
   "cell_type": "markdown",
   "metadata": {},
   "source": [
    "#### e. do the same as in (d) but print the top 10 subjects in terms of number of courses offered\n"
   ]
  },
  {
   "cell_type": "code",
   "execution_count": null,
   "metadata": {},
   "outputs": [],
   "source": [
    "tup1 = dict()\n",
    "for c in courses:\n",
    "    if c['subject'] in tup1:\n",
    "        tup1[c['subject']] += 1\n",
    "    else:\n",
    "        tup1[c['subject']] = 1\n",
    "\n",
    "list1 = [(k, v) for k, v in tup1.items()]\n",
    "list1 = sorted(list1, key = lambda x: -x[1])\n",
    "list1[0: 10]\n",
    "\n",
    "# not sure about what it mean by number of courses: same course different term?\n"
   ]
  },
  {
   "cell_type": "markdown",
   "metadata": {},
   "source": [
    "#### f. do the same as (d) but print the top 10 subjects in terms of number of faculty teaching courses in that subject\n"
   ]
  },
  {
   "cell_type": "code",
   "execution_count": null,
   "metadata": {},
   "outputs": [],
   "source": [
    "tup2 = dict()\n",
    "for c in courses:\n",
    "    if c['subject'] in tup2:\n",
    "        if c['instructor'] in tup2[c['subject']]:\n",
    "            continue\n",
    "        else:\n",
    "            tup2[c['subject']].add(c['instructor'])\n",
    "    else:\n",
    "        tup2[c['subject']] = set()\n",
    "        tup2[c['subject']].add(c['instructor'])\n",
    "\n",
    "list2 = [(k, len(v)) for k, v in tup2.items()]\n",
    "list2 = sorted(list2, key = lambda x: -x[1])\n",
    "list2[0: 10]"
   ]
  },
  {
   "cell_type": "markdown",
   "metadata": {},
   "source": [
    "#### g. list the top 20 faculty in terms of number of students they taught"
   ]
  },
  {
   "cell_type": "code",
   "execution_count": null,
   "metadata": {},
   "outputs": [],
   "source": [
    "instructor = dict()\n",
    "for c in courses:\n",
    "    if c['instructor'] in instructor:\n",
    "        instructor[c['instructor']] += c['enrolled']\n",
    "    else:\n",
    "        instructor[c['instructor']] = c['enrolled']\n",
    "[ins for ins in sorted(instructor.items(), key= lambda instructor: instructor[1], reverse = True)][:10]"
   ]
  },
  {
   "cell_type": "markdown",
   "metadata": {},
   "source": [
    "#### h. list the top 20 courses in terms of number of students taking that course (where you combine different sections and semesters, i.e. just use the subject and course number)"
   ]
  },
  {
   "cell_type": "code",
   "execution_count": null,
   "metadata": {},
   "outputs": [],
   "source": [
    "courses_students = dict()\n",
    "for c in courses:\n",
    "    if c['code'] in courses_students.keys():\n",
    "        courses_students[c['code']] += c['enrolled']\n",
    "    else:\n",
    "        courses_students[c['code']] = 0\n",
    "courses_students = sorted(courses_students.items(), key = lambda item: item[1], reverse = True)\n",
    "print(courses_students[:20])"
   ]
  },
  {
   "cell_type": "markdown",
   "metadata": {},
   "source": [
    "#### i. Create my own interesting question(Lu):\n",
    "    What are the courses that mentioned code in its description?"
   ]
  },
  {
   "cell_type": "code",
   "execution_count": null,
   "metadata": {},
   "outputs": [],
   "source": [
    "{c['name'] for c in courses if 'code' in c['description']}"
   ]
  },
  {
   "cell_type": "markdown",
   "metadata": {
    "tags": []
   },
   "source": [
    "#### i. Create my own interesting question(Jing):\n",
    "    The top 10 instructors in terms of the number of independent study they have taught"
   ]
  },
  {
   "cell_type": "code",
   "execution_count": null,
   "metadata": {},
   "outputs": [],
   "source": [
    "instructor_with_inde = dict()\n",
    "for c in courses:\n",
    "    if course['independent_study'] == True:\n",
    "        if c['instructor'] in instructor_with_inde:\n",
    "            instructor_with_inde[c['instructor']] += 1\n",
    "        else:\n",
    "            instructor_with_inde[c['instructor']] = 1\n",
    "[ins for ins in sorted(instructor_with_inde.items(), key= lambda instructor: instructor[1], reverse = True)][:10]"
   ]
  },
  {
   "cell_type": "markdown",
   "metadata": {},
   "source": [
    "#### i. Create my own interesting question(Shuyuan):\n",
    "    Courses waiting list is larger than 15?"
   ]
  },
  {
   "cell_type": "code",
   "execution_count": null,
   "metadata": {},
   "outputs": [],
   "source": [
    "[{c['name'] for c in courses if c['waiting'] >= 15}] "
   ]
  }
 ],
 "metadata": {
  "kernelspec": {
   "display_name": "Python 3 (ipykernel)",
   "language": "python",
   "name": "python3"
  },
  "language_info": {
   "codemirror_mode": {
    "name": "ipython",
    "version": 3
   },
   "file_extension": ".py",
   "mimetype": "text/x-python",
   "name": "python",
   "nbconvert_exporter": "python",
   "pygments_lexer": "ipython3",
   "version": "3.9.7"
  }
 },
 "nbformat": 4,
 "nbformat_minor": 4
}
